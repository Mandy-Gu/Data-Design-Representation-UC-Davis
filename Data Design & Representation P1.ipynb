{
 "cells": [
  {
   "cell_type": "code",
   "execution_count": 1,
   "metadata": {},
   "outputs": [],
   "source": [
    "from bs4 import BeautifulSoup\n",
    "import re\n",
    "from requests import Session\n",
    "import requests\n",
    "import codecs\n",
    "import time\n",
    "from collections import Counter"
   ]
  },
  {
   "cell_type": "markdown",
   "metadata": {},
   "source": [
    "# Part 1: Dealing with Unicode:"
   ]
  },
  {
   "cell_type": "markdown",
   "metadata": {},
   "source": [
    "__a) Write a program that connects to the page:\n",
    "https://www.thyssenkrupp-elevator.com/kr/products/multi/__"
   ]
  },
  {
   "cell_type": "code",
   "execution_count": 2,
   "metadata": {},
   "outputs": [],
   "source": [
    "# The url of target website\n",
    "url = 'https://www.thyssenkrupp-elevator.com/kr/products/multi/'\n",
    "# Add headers\n",
    "headers = {'User-Agent': 'Mozilla/5.0'}\n",
    "# Get the content from the url\n",
    "page = requests.get(url, headers = headers)\n",
    "# Obtain clean text from website\n",
    "soup = BeautifulSoup(page.text, 'html.parser')"
   ]
  },
  {
   "cell_type": "markdown",
   "metadata": {},
   "source": [
    "__b) Augment your code to save the page to your file system in the same directory as your code script and name it \"elevator.htm\". Make sure to save it using UTF8 (Unicode).__"
   ]
  },
  {
   "cell_type": "code",
   "execution_count": 3,
   "metadata": {},
   "outputs": [],
   "source": [
    "# Open a new file named 'elevator.htm'\n",
    "with codecs.open('elevator.htm', 'w', encoding = 'utf8') as f:\n",
    "    # Write the content to the file\n",
    "    f.write(str(soup))\n",
    "# Close the file\n",
    "f.close()"
   ]
  },
  {
   "cell_type": "markdown",
   "metadata": {},
   "source": [
    "__c) Open the file (saved in section b) using a STANDARD TEXT EDITOR (make sure it supports Unicode) or open it in a programming language as TXT only.__"
   ]
  },
  {
   "cell_type": "code",
   "execution_count": 4,
   "metadata": {},
   "outputs": [],
   "source": [
    "# Open the file\n",
    "file = open('elevator.htm', 'r')\n",
    "# Read all content in the file\n",
    "text = file.read()\n",
    "# Close the file\n",
    "file.close()"
   ]
  },
  {
   "cell_type": "markdown",
   "metadata": {},
   "source": [
    "__d) Create a single search-and-replace RegEx that strips all 'tag's + run it.__"
   ]
  },
  {
   "cell_type": "code",
   "execution_count": 5,
   "metadata": {},
   "outputs": [],
   "source": [
    "r = re.compile(r'<.*?>')\n",
    "text_without_tag = r.sub('', text)\n",
    "# print (text_without_tag)"
   ]
  },
  {
   "cell_type": "markdown",
   "metadata": {},
   "source": [
    "__e) Create a single search-and-replace RegEx that grabs the Korean character that occurs right before \".\" (the end of the sentence).__"
   ]
  },
  {
   "cell_type": "code",
   "execution_count": 6,
   "metadata": {},
   "outputs": [
    {
     "name": "stdout",
     "output_type": "stream",
     "text": [
      "['다', '다', '은', '오', '다', '다', '다', '다', '요', '다', '다', '다', '다', '다', '다']\n"
     ]
    }
   ],
   "source": [
    "# Based on the text file returned from Question d\n",
    "r = re.compile(u'([\\u3131-\\ucb4c])\\.')\n",
    "character_before_period = r.findall(text_without_tag)\n",
    "print (character_before_period)"
   ]
  },
  {
   "cell_type": "markdown",
   "metadata": {},
   "source": [
    "__f) What is the Korean character that occurs the most? Print it to the screen.__"
   ]
  },
  {
   "cell_type": "code",
   "execution_count": 7,
   "metadata": {},
   "outputs": [
    {
     "name": "stdout",
     "output_type": "stream",
     "text": [
      "The Korean character that occurs after removing tags the most is: 이\n",
      "이 appears for 30 times.\n"
     ]
    }
   ],
   "source": [
    "# Store all the korean characters based on Question d\n",
    "korean = re.findall(r'([\\u3131-\\ucb4c])',text_without_tag)\n",
    "# count the occurances for different characters in the list\n",
    "KorenCharCounter = Counter(korean)\n",
    "print('The Korean character that occurs after removing tags the most is:',KorenCharCounter.most_common(1)[0][0])\n",
    "print(KorenCharCounter.most_common(1)[0][0], 'appears for', KorenCharCounter.most_common(1)[0][1], 'times.')"
   ]
  },
  {
   "cell_type": "code",
   "execution_count": 8,
   "metadata": {},
   "outputs": [
    {
     "name": "stdout",
     "output_type": "stream",
     "text": [
      "The Korean character that occurs the most before period is: 다\n",
      "다 appears for 12 times.\n"
     ]
    }
   ],
   "source": [
    "# Store all the korean characters based on Question e\n",
    "KorenCharCounter = Counter(character_before_period)\n",
    "print('The Korean character that occurs the most before period is:',KorenCharCounter.most_common(1)[0][0])\n",
    "print(KorenCharCounter.most_common(1)[0][0], 'appears for', KorenCharCounter.most_common(1)[0][1], 'times.')"
   ]
  },
  {
   "cell_type": "markdown",
   "metadata": {},
   "source": [
    "# Part2\n",
    "\n",
    "__Use your browser to create an account on https://www.allrecipes.com (Note: your password will appear in plain text in the source code, so please choose something you are happy to share with us / perhaps even the word if you upload your source to GitHub. DO NOT use any passwords of your other personal accounts elsewhere)__"
   ]
  },
  {
   "cell_type": "markdown",
   "metadata": {},
   "source": [
    "__a) Write a program that logs into your account (Hint: you might need to include your cookies. Look into the source code when you log in using your browser and look for your username and info. Is this a GET or POST request? Use this information to help you write your code to log in)__"
   ]
  },
  {
   "cell_type": "code",
   "execution_count": 9,
   "metadata": {},
   "outputs": [],
   "source": [
    "with Session() as s:\n",
    "    # The url for login\n",
    "    login_url = 'https://www.allrecipes.com/account/signin/'\n",
    "    # Both user-agent and cookies are copied from the website page\n",
    "    url = 'https://www.allrecipes.com'\n",
    "    cookies = requests.get(url).cookies.get_dict()\n",
    "    # Use cookie and user-agent to get the information from login page\n",
    "    site = s.get(login_url, headers = headers)\n",
    "    time.sleep(5)\n",
    "    # Get the clean content from the login page\n",
    "    bs_content = BeautifulSoup(site.text, \"html.parser\")\n",
    "    # Scrape the token\n",
    "    token = bs_content.find(\"input\", {\"name\":\"SocialCsrfToken\"})[\"value\"]\n",
    "    # Scrape the referring\n",
    "    referring = bs_content.find(\"input\", {\"name\":\"ReferringUrl\"})[\"value\"]\n",
    "    # Scrape data_val\n",
    "    data_val = bs_content.find(\"input\", {\"name\":\"AuthLayoutMode\"})[\"value\"]\n",
    "    # My login information\n",
    "    login_data = {\n",
    "        \"txtUserNameOrEmail\":\"xxxigucci@gmail.com\",\n",
    "        \"password\":\"Hotpotisthebest\", \n",
    "        \"SocialCsrfToken\":token,\n",
    "        \"ReferringUrl\":referring,\n",
    "        \"AuthLayoutMode\": data_val,\n",
    "    }\n",
    "    # Use post to scrape the website by login\n",
    "    home_page = s.post(login_url,login_data, headers = cookies)"
   ]
  },
  {
   "cell_type": "markdown",
   "metadata": {},
   "source": [
    "__b) Verify that you are logged in by \"looking for your username\" in the HTML response of section (a). Find your username and print it to the screen.__"
   ]
  },
  {
   "cell_type": "code",
   "execution_count": 10,
   "metadata": {},
   "outputs": [
    {
     "data": {
      "text/plain": [
       "'Mandy Gu'"
      ]
     },
     "execution_count": 10,
     "metadata": {},
     "output_type": "execute_result"
    }
   ],
   "source": [
    "content = BeautifulSoup(home_page.text, \"html.parser\")\n",
    "# Print my username\n",
    "content.find('span', {'class': 'username'}).get_text()"
   ]
  },
  {
   "cell_type": "code",
   "execution_count": null,
   "metadata": {},
   "outputs": [],
   "source": []
  }
 ],
 "metadata": {
  "kernelspec": {
   "display_name": "Python 3",
   "language": "python",
   "name": "python3"
  },
  "language_info": {
   "codemirror_mode": {
    "name": "ipython",
    "version": 3
   },
   "file_extension": ".py",
   "mimetype": "text/x-python",
   "name": "python",
   "nbconvert_exporter": "python",
   "pygments_lexer": "ipython3",
   "version": "3.7.4"
  }
 },
 "nbformat": 4,
 "nbformat_minor": 2
}

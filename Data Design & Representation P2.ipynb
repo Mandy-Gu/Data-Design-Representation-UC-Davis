{
 "cells": [
  {
   "cell_type": "markdown",
   "metadata": {},
   "source": [
    "# Midterm"
   ]
  },
  {
   "cell_type": "markdown",
   "metadata": {},
   "source": [
    "__Done by: Mandy Gu__"
   ]
  },
  {
   "cell_type": "markdown",
   "metadata": {},
   "source": [
    "__Import all packages needed__"
   ]
  },
  {
   "cell_type": "code",
   "execution_count": 1,
   "metadata": {},
   "outputs": [],
   "source": [
    "import requests\n",
    "from bs4 import BeautifulSoup\n",
    "import re\n",
    "import time\n",
    "import os\n",
    "import glob\n",
    "import json\n",
    "import mysql.connector"
   ]
  },
  {
   "cell_type": "code",
   "execution_count": 2,
   "metadata": {},
   "outputs": [],
   "source": [
    "# Save the path of current directory for further use\n",
    "current_dir = '/Users/qimenggu/Desktop/UC Davis/Data Design/Midterm'"
   ]
  },
  {
   "cell_type": "markdown",
   "metadata": {},
   "source": [
    "# Part 1"
   ]
  },
  {
   "cell_type": "markdown",
   "metadata": {},
   "source": [
    "__a) Write a program that accesses all trivia results for the numbers from 0 (zero) to 100 using batch requests only (One single query for all the numbers). Print the output result to the screen in the format of [3-digit number with leading zeros] - [TRIVIA] (One number per each line).__"
   ]
  },
  {
   "cell_type": "code",
   "execution_count": 3,
   "metadata": {},
   "outputs": [
    {
     "ename": "AttributeError",
     "evalue": "'NoneType' object has no attribute 'text'",
     "output_type": "error",
     "traceback": [
      "\u001b[0;31m---------------------------------------------------------------------------\u001b[0m",
      "\u001b[0;31mAttributeError\u001b[0m                            Traceback (most recent call last)",
      "\u001b[0;32m<ipython-input-3-3dfd9eb2db60>\u001b[0m in \u001b[0;36m<module>\u001b[0;34m\u001b[0m\n\u001b[1;32m      9\u001b[0m \u001b[0;31m# Parse a list of 0-99 to the website and transfer it to a 3-digit number with leading zeros\u001b[0m\u001b[0;34m\u001b[0m\u001b[0;34m\u001b[0m\u001b[0;34m\u001b[0m\u001b[0m\n\u001b[1;32m     10\u001b[0m \u001b[0;32mfor\u001b[0m \u001b[0mnumber\u001b[0m \u001b[0;32min\u001b[0m \u001b[0mrange\u001b[0m\u001b[0;34m(\u001b[0m\u001b[0;36m100\u001b[0m\u001b[0;34m)\u001b[0m\u001b[0;34m:\u001b[0m\u001b[0;34m\u001b[0m\u001b[0;34m\u001b[0m\u001b[0m\n\u001b[0;32m---> 11\u001b[0;31m     \u001b[0moutput\u001b[0m \u001b[0;34m=\u001b[0m \u001b[0mnum2trivia\u001b[0m\u001b[0;34m(\u001b[0m\u001b[0;34m'http://numbersapi.com/'\u001b[0m\u001b[0;34m,\u001b[0m \u001b[0;34m'/trivia'\u001b[0m\u001b[0;34m,\u001b[0m \u001b[0;36m3\u001b[0m\u001b[0;34m,\u001b[0m \u001b[0mnumber\u001b[0m\u001b[0;34m)\u001b[0m\u001b[0;34m\u001b[0m\u001b[0;34m\u001b[0m\u001b[0m\n\u001b[0m\u001b[1;32m     12\u001b[0m \u001b[0;31m#     print (output)\u001b[0m\u001b[0;34m\u001b[0m\u001b[0;34m\u001b[0m\u001b[0;34m\u001b[0m\u001b[0m\n",
      "\u001b[0;32m<ipython-input-3-3dfd9eb2db60>\u001b[0m in \u001b[0;36mnum2trivia\u001b[0;34m(url, RequestType, NumOfDigits, Number)\u001b[0m\n\u001b[1;32m      3\u001b[0m     \u001b[0mpages\u001b[0m \u001b[0;34m=\u001b[0m \u001b[0mrequests\u001b[0m\u001b[0;34m.\u001b[0m\u001b[0mget\u001b[0m\u001b[0;34m(\u001b[0m\u001b[0murl\u001b[0m \u001b[0;34m+\u001b[0m \u001b[0mstr\u001b[0m\u001b[0;34m(\u001b[0m\u001b[0mNumber\u001b[0m\u001b[0;34m)\u001b[0m \u001b[0;34m+\u001b[0m \u001b[0mRequestType\u001b[0m\u001b[0;34m)\u001b[0m\u001b[0;34m\u001b[0m\u001b[0;34m\u001b[0m\u001b[0m\n\u001b[1;32m      4\u001b[0m     \u001b[0mcontent\u001b[0m \u001b[0;34m=\u001b[0m \u001b[0mBeautifulSoup\u001b[0m\u001b[0;34m(\u001b[0m\u001b[0mpages\u001b[0m\u001b[0;34m.\u001b[0m\u001b[0mtext\u001b[0m\u001b[0;34m)\u001b[0m\u001b[0;34m\u001b[0m\u001b[0;34m\u001b[0m\u001b[0m\n\u001b[0;32m----> 5\u001b[0;31m     \u001b[0mtrivia\u001b[0m \u001b[0;34m=\u001b[0m \u001b[0mcontent\u001b[0m\u001b[0;34m.\u001b[0m\u001b[0mfind\u001b[0m\u001b[0;34m(\u001b[0m\u001b[0;34m'p'\u001b[0m\u001b[0;34m)\u001b[0m\u001b[0;34m.\u001b[0m\u001b[0mtext\u001b[0m\u001b[0;34m.\u001b[0m\u001b[0mstrip\u001b[0m\u001b[0;34m(\u001b[0m\u001b[0;34m)\u001b[0m\u001b[0;34m\u001b[0m\u001b[0;34m\u001b[0m\u001b[0m\n\u001b[0m\u001b[1;32m      6\u001b[0m     \u001b[0moutput\u001b[0m \u001b[0;34m=\u001b[0m \u001b[0mstr\u001b[0m\u001b[0;34m(\u001b[0m\u001b[0mnumber\u001b[0m\u001b[0;34m)\u001b[0m\u001b[0;34m.\u001b[0m\u001b[0mzfill\u001b[0m\u001b[0;34m(\u001b[0m\u001b[0mNumOfDigits\u001b[0m\u001b[0;34m)\u001b[0m \u001b[0;34m+\u001b[0m \u001b[0;34m' - '\u001b[0m \u001b[0;34m+\u001b[0m \u001b[0mtrivia\u001b[0m\u001b[0;34m\u001b[0m\u001b[0;34m\u001b[0m\u001b[0m\n\u001b[1;32m      7\u001b[0m     \u001b[0;32mreturn\u001b[0m \u001b[0moutput\u001b[0m\u001b[0;34m\u001b[0m\u001b[0;34m\u001b[0m\u001b[0m\n",
      "\u001b[0;31mAttributeError\u001b[0m: 'NoneType' object has no attribute 'text'"
     ]
    }
   ],
   "source": [
    "def num2trivia(url, RequestType, NumOfDigits, Number):\n",
    "    '''Input a list of number, Parse the corresponding trivia in a specified format from the \"numberapi\" website'''\n",
    "    pages = requests.get(url + str(Number) + RequestType)\n",
    "    content = BeautifulSoup(pages.text)\n",
    "    trivia = content.find('p').text.strip()\n",
    "    output = str(number).zfill(NumOfDigits) + ' - ' + trivia\n",
    "    return output\n",
    "\n",
    "# Parse a list of 0-99 to the website and transfer it to a 3-digit number with leading zeros\n",
    "for number in range(100):\n",
    "    output = num2trivia('http://numbersapi.com/', '/trivia', 3, number)\n",
    "#     print (output)"
   ]
  },
  {
   "cell_type": "markdown",
   "metadata": {},
   "source": [
    "# Part 2"
   ]
  },
  {
   "cell_type": "markdown",
   "metadata": {},
   "source": [
    "__a) How would you modify your search query to only include buy-it-now (non-auction) items? What is the GET request's variable name corresponding to buy-it-now searches? How would you modify your search query to include 100 items per search result page? What is the GET request's variable name corresponding to items per page searches? Include your answers as a comment in your code marking it as Part 2-a.__"
   ]
  },
  {
   "cell_type": "code",
   "execution_count": 23,
   "metadata": {},
   "outputs": [],
   "source": [
    "# Variable name for buy-it-now: LH_BIN\n",
    "# https://www.ebay.com/sch/i.html?_nkw=samsung+tv&LH_BIN=1\n",
    "# Variable name for the number of items per search result page: _ipg\n",
    "# https://www.ebay.com/sch/i.html?_nkw=samsung+tv&LH_BIN=1&_ipg=100"
   ]
  },
  {
   "cell_type": "markdown",
   "metadata": {},
   "source": [
    "__b) Modify your previous code to search for buy-it-now listings of \"canon eos 5d\" and limit the number of items to 100 per page.__\n",
    "\n",
    "__Identify all the sponsored items.__\n",
    "\n",
    "__For the first 10 pages of 100 items/page, save all the URLs of sponsored items' pages to the file \"sponsored.txt\"  and all the URLs of non-sponsored items' pages to the file \"non-sponsored.txt\" in the same directory as your code. (One URL per line in each file)__"
   ]
  },
  {
   "cell_type": "code",
   "execution_count": 24,
   "metadata": {},
   "outputs": [],
   "source": [
    "sponsor_url = ''\n",
    "non_sponsor_url = ''\n",
    "for i in range(10):    \n",
    "    url = 'https://www.ebay.com/sch/i.html?&_nkw=playstation+4+slim&LH_BIN=1&_ipg=100&_pgn=' + str(i + 1)\n",
    "    headers = {'User-Agent': 'Mozilla/5.0'}\n",
    "    page = requests.get(url, headers = headers)\n",
    "    soup = BeautifulSoup(page.text, 'html.parser')\n",
    "    a_href = soup.select(\"li.s-item\")\n",
    "    for href in a_href: # Go through all items on this page   \n",
    "        a = href.find(\"a\")             \n",
    "        if not a:                    \n",
    "            continue\n",
    "        \n",
    "        url_simplify = re.sub(\"(.*)\\\\?.*\", r\"\\1\", a.get('href')) # Obtain a shorter url\n",
    "        if href.find('span', {'role': 'text'}) != None:\n",
    "            text = href.find('span', {'role': 'text'}).get_text() # 'Sponsor' is found inside this <span>\n",
    "        \n",
    "            if re.search('.*S.*P.*O.*N.*S.*O.*R.*E.*D.*', text):\n",
    "                sponsor_url += url_simplify + '\\n' # Identified as sponsor items\n",
    "            else:\n",
    "                non_sponsor_url += url_simplify + '\\n'\n",
    "        else:\n",
    "            non_sponsor_url += url_simplify + '\\n' # Identified as non-sponsor items\n",
    "    time.sleep(2)\n",
    "    \n",
    "file = open('sponsored.txt', 'wt', encoding = \"utf-8\")\n",
    "file.write(sponsor_url)\n",
    "file.close()\n",
    "\n",
    "file = open('non-sponsored.txt', 'wt', encoding = \"utf-8\")\n",
    "file.write(non_sponsor_url)\n",
    "file.close()"
   ]
  },
  {
   "cell_type": "markdown",
   "metadata": {},
   "source": [
    "__c) Create two folders in the same directory as your code and name them \"sponsored\" and \"non-sponsored\". Write a program that opens the two files in (b) and downloads each of the pages (URLs) into the folders \"sponsored\" and \"non-sponsored\". Each file should be named as \"(item-id)htm\" where you replace \"item-id\" with the ID of the item you are saving. E.g., \"264616053293.htm\" for the item with ID \"264616053293\". Note it is always good to put a 2-second pause between queries. Make sure to catch an error and continue if your query runs into problems connecting to eBay (e.g., if your internet is down for 5 seconds, you don't want your entire code to crash).__"
   ]
  },
  {
   "cell_type": "code",
   "execution_count": 25,
   "metadata": {},
   "outputs": [],
   "source": [
    "def create_folder(FolderName):\n",
    "    '''Create a new folder if not exists'''\n",
    "    if not os.path.exists(FolderName):\n",
    "        os.makedirs(FolderName)\n",
    "\n",
    "# Create a folder for sponsored items\n",
    "create_folder('sponsored')\n",
    "# Create a folder for non-sponsored items\n",
    "create_folder('non-sponsored')"
   ]
  },
  {
   "cell_type": "code",
   "execution_count": 26,
   "metadata": {
    "scrolled": true
   },
   "outputs": [],
   "source": [
    "def extract_url(txt):\n",
    "    '''Extract all urls in a txt file, which is seperated by \\n'''\n",
    "    file = open(txt, 'r')\n",
    "    content = file.read().strip().split('\\n')\n",
    "    file.close()\n",
    "    return content\n",
    "\n",
    "def parse_url(url):\n",
    "    '''Assign the itemid as its filename and parse the webpage by url'''\n",
    "    r = re.compile(r'/([0-9]{12})')\n",
    "    filename = str(r.findall(url)[0]) + '.htm'\n",
    "    # In case some errors occur when parsing\n",
    "    try:\n",
    "        page = requests.get(url, headers = headers)\n",
    "        soup = BeautifulSoup(page.text)\n",
    "    except:\n",
    "        print ('Fail to parse: ',url)\n",
    "    return soup, filename\n",
    "\n",
    "def url2file(folder, filename, soup):\n",
    "    '''Open a new file under specific folder named by itemid and write its corresponding webpage content into it'''\n",
    "    file = open(os.path.join(folder, filename), 'wt')\n",
    "    file.write(str(soup))\n",
    "    file.close()\n",
    "    \n",
    "# Find all txt in the currect directory\n",
    "for txt in glob.glob('*.txt'):\n",
    "    content = extract_url(txt) # Extract all urls\n",
    "    for url in content:\n",
    "        soup = parse_url(url)[0] # Parse webpage content from the url\n",
    "        filename = parse_url(url)[1] # Get the filename\n",
    "        folder = txt.split('.')[0] # Determin if it is sponsored or non-sponsored\n",
    "        url2file(folder, filename, soup) # Write content into corresponding file under specific folder\n",
    "        time.sleep(2) # Act as a human in case of codes going off"
   ]
  },
  {
   "cell_type": "markdown",
   "metadata": {},
   "source": [
    "__d) Write a separate piece of code that loops through the pages you downloaded in (c) and opens and parses them into a Python or Java xxxxsoup-object. Identify and select:__\n",
    "\n",
    "__seller name, seller score, item price, # items sold, best offer available, title, returns allowed, shipping price, condition (e.g., used, new, like new, seller refurbished, ...).__\n",
    "\n",
    "__In your code, highlight the selector command you choose to obtain each element using comments.__"
   ]
  },
  {
   "cell_type": "code",
   "execution_count": 27,
   "metadata": {},
   "outputs": [],
   "source": [
    "def sellerName(RightSummaryPanel):\n",
    "    '''Find content on RightSummaryPanel containing a unique id, search for seller name by regex and clean the data'''\n",
    "    if re.findall(r'Member ID:(.*?)\"', str(RightSummaryPanel)) != []:\n",
    "        seller_name = re.findall(r'Member ID:(.*?)\"', str(RightSummaryPanel))[0].replace('\\xa0', '')\n",
    "    else:\n",
    "        seller_name = None\n",
    "    return seller_name\n",
    "\n",
    "def sellerScore(RightSummaryPanel):\n",
    "    '''Find content on RightSummaryPanel, search for seller score by regex and make it an integer'''\n",
    "    if re.findall(r'\"feedback score: ([0-9]+)\"', str(RightSummaryPanel)) != []:\n",
    "        sellerScore = int(re.findall(r'\"feedback score: ([0-9]+)\"', str(RightSummaryPanel))[0])\n",
    "    else:\n",
    "        sellerScore = None\n",
    "    return sellerScore\n",
    "\n",
    "def itemPrice(soup):\n",
    "    '''Find item price by its unique id \"prcIsum\", and unite all kinds of currency to US cents as an integer'''\n",
    "    if soup.find('span', {'id': 'prcIsum'}) != None:\n",
    "        itemPrice = soup.find('span', {'id': 'prcIsum'}).get_text()\n",
    "        if re.findall(r'US.*', itemPrice):\n",
    "            itemPrice = int(float(re.findall(r'[.0-9]+', itemPrice)[0]) * 100)\n",
    "        elif re.findall(r'C.*', itemPrice):\n",
    "            # The exchange rate is obtained online on Feb 6th\n",
    "            itemPrice = int(float(re.findall(r'[.0-9]+', itemPrice)[0]) * 0.75 * 100)\n",
    "        elif re.findall(r'GBP.*', itemPrice):\n",
    "            itemPrice = int(float(re.findall(r'[.0-9]+', itemPrice)[0]) * 1.29 * 100)\n",
    "        else:\n",
    "            itemPrice = itemPrice\n",
    "    else:\n",
    "        itemPrice = None\n",
    "    return itemPrice\n",
    "\n",
    "def title(soup):\n",
    "    '''Find title of the item by its unique id \"itemTitle\", and do some cleaning'''\n",
    "    if soup.find('h1', {'id': 'itemTitle'}) != None:\n",
    "        title = soup.find('h1', {'id': 'itemTitle'}).get_text().split('\\xa0')[1]\n",
    "    else:\n",
    "        title = None\n",
    "    return title\n",
    "\n",
    "def itemSold(soup):\n",
    "    '''Find the number of item sold on specific panel of \"soldwithfeedback\". If not exists, then assign None'''\n",
    "    if soup.find('span', {'class': 'soldwithfeedback'}) != None:\n",
    "        item_sold = soup.find('span', {'class': 'soldwithfeedback'}).get_text()\n",
    "        itemSold = int(re.findall(r'([0-9]+) sold', str(item_sold))[0])\n",
    "    else:\n",
    "        itemSold = None\n",
    "    return itemSold\n",
    "\n",
    "def bestOffer(soup):\n",
    "    '''Determin if an item can be made an offer. If its unique id does not exist, then assign 0, otherwise assign 1'''\n",
    "    if soup.find('a', {'id': 'boBtn_btn'}) != None:\n",
    "        bestOffer = 1\n",
    "    else:\n",
    "        bestOffer = 0\n",
    "    return bestOffer\n",
    "\n",
    "def returnAllowed(soup):\n",
    "    '''Find the policy about return by its unique id and assign names to different kinds of return policy'''\n",
    "    if soup.find('span', {'id': 'vi-ret-accrd-txt'}) != None:\n",
    "        returnAllowed = soup.find('span', {'id': 'vi-ret-accrd-txt'}).get_text().replace('\\xa0', ' ')\n",
    "        if re.findall(r'14.*shipping', returnAllowed) != []:\n",
    "            returnAllowed = '14 Buyer pays' # 14 day returns. Buyer pays for return shipping\n",
    "        elif re.findall(r'30.*shipping', returnAllowed) != []:\n",
    "            returnAllowed = '30 Buyer pays' # 30 day returns. Buyer pays for return shipping\n",
    "        elif re.findall(r'60.*shipping', returnAllowed) != []:\n",
    "            returnAllowed = '60 Buyer pays' # 60 day returns. Buyer pays for return shipping\n",
    "        elif re.findall(r'Free 30.*', returnAllowed) != []:\n",
    "            returnAllowed = 'Free 30' # Free 30 day returns\n",
    "        elif re.findall(r'Free 60.*', returnAllowed) != []:\n",
    "            returnAllowed = 'Free 60' # Free 60 day returns\n",
    "        else:\n",
    "            returnAllowed = 'ReturnNotAllowed' # Seller does not accept returns\n",
    "    else:\n",
    "        returnAllowed = None\n",
    "    return returnAllowed\n",
    "\n",
    "def shippingPrice(soup):\n",
    "    '''Find shipping price in its unique id \"shippingSection\", unite currency and determine if it needs calculation'''\n",
    "    if soup.find('div', {'id': 'shippingSection'}) != None:\n",
    "        try:\n",
    "            # The shipping price is in a table\n",
    "            shipping_price = soup.find('div', {'id': 'shippingSection'}).find('td').get_text().strip()\n",
    "            if re.findall(r'US.*', shipping_price):\n",
    "                shippingPrice = int(float(re.findall(r'[.0-9]+', shipping_price)[0]) * 100)\n",
    "            elif re.findall(r'C.*', shipping_price):\n",
    "                shippingPrice = int(float(re.findall(r'[.0-9]+', shipping_price)[0]) * 0.75 * 100)\n",
    "            elif re.findall(r'GBP.*', shipping_price):\n",
    "                shippingPrice = int(float(re.findall(r'[.0-9]+', shipping_price)[0]) * 1.29 * 100)\n",
    "            # You can contact your seller to arrange to pay for and pick up your item OR free shipping\n",
    "            elif re.findall(r'Free.*', shipping_price) or re.findall(r'contact your seller', shipping_price):\n",
    "                shippingPrice = 0\n",
    "            else:\n",
    "                shippingPrice = shipping_price\n",
    "            # If the shipping price requires zip code to be calculated, it will not have this id\n",
    "            calculate_needed = 0\n",
    "        except:\n",
    "            calculate_needed = 1\n",
    "            shippingPrice = None\n",
    "    else:\n",
    "        shippingPrice = None\n",
    "        calculate_needed = 0\n",
    "    return shippingPrice, calculate_needed\n",
    "\n",
    "def condition(soup):\n",
    "    '''Condition may be selected in two areas, where both have their unique ids. Do some cleaning and assign names'''\n",
    "    if soup.find('span', {'id': 'vi-cond-addl-info'}) != None:\n",
    "        condition = soup.find('span', {'id': 'vi-cond-addl-info'}).get_text().strip()\n",
    "        condition_more = soup.find('span', {'id': 'hiddenContent'}).get_text().strip()\n",
    "        total_condition = condition + condition_more\n",
    "    else:\n",
    "        condition = soup.find('div', {'id': 'itmCondDscOly'})\n",
    "        if condition != None:\n",
    "            condition = condition.get_text()\n",
    "            total_condition = condition.strip().split('\\n')[0]\n",
    "        else:\n",
    "            total_condition = None\n",
    "       \n",
    "    if total_condition != None:\n",
    "        if re.findall(r'restored', total_condition) != []:\n",
    "            total_condition = 'Restored' # Restored but in excellent condition\n",
    "        elif re.findall(r'used previously', total_condition) != []:\n",
    "            total_condition = 'Used' # Used Previously\n",
    "        elif re.findall(r'excellent, new condition', total_condition) != []:\n",
    "            total_condition = 'Factory new' # Excellent new condition maybe a factory second\n",
    "        else:\n",
    "            total_condition = 'Brand new' # Brand new with original packaging\n",
    "    return total_condition"
   ]
  },
  {
   "cell_type": "code",
   "execution_count": 28,
   "metadata": {},
   "outputs": [],
   "source": [
    "def selector(dictionary):\n",
    "    '''Read the webpage content and parse all elements selected to a dictionary for further use'''\n",
    "    for htm in glob.glob('*.htm'):\n",
    "        dictionary[htm] = {}\n",
    "        file = open(htm, 'r', encoding = 'utf-8')\n",
    "        soup = BeautifulSoup(file.read())\n",
    "        file.close()\n",
    "        \n",
    "        RightSummaryPanel = soup.find('div', {'id': 'RightSummaryPanel'}) # Used for select seller name and score\n",
    "        dictionary[htm]['sellerName'] = sellerName(RightSummaryPanel)\n",
    "        dictionary[htm]['sellerScore'] = sellerScore(RightSummaryPanel)\n",
    "        dictionary[htm]['itemPrice'] = itemPrice(soup)\n",
    "        dictionary[htm]['title'] = title(soup)\n",
    "        dictionary[htm]['itemSold'] = itemSold(soup)\n",
    "        dictionary[htm]['bestOffer'] = bestOffer(soup)\n",
    "        dictionary[htm]['returnAllowed'] = returnAllowed(soup)\n",
    "        dictionary[htm]['shippingPrice'] = shippingPrice(soup)[0]\n",
    "        dictionary[htm]['calculate_needed'] = shippingPrice(soup)[1]\n",
    "        dictionary[htm]['condition'] = condition(soup)\n",
    "    return dictionary"
   ]
  },
  {
   "cell_type": "code",
   "execution_count": 29,
   "metadata": {},
   "outputs": [],
   "source": [
    "sponsor_info = {}\n",
    "non_sponsor_info = {}\n",
    "\n",
    "# Make sure it is in current directory but not in either folders\n",
    "os.chdir(current_dir)\n",
    "# Get into non-sponsored folder\n",
    "os.chdir(os.getcwd() + '/non-sponsored')\n",
    "# Put all information to dictionary\n",
    "non_sponsor_info = selector(non_sponsor_info)\n",
    "\n",
    "os.chdir(current_dir)\n",
    "os.chdir(os.getcwd() + '/sponsored')\n",
    "sponsor_info = selector(sponsor_info)"
   ]
  },
  {
   "cell_type": "code",
   "execution_count": 30,
   "metadata": {},
   "outputs": [],
   "source": [
    "os.chdir(current_dir)\n",
    "\n",
    "def dict2json(dictionary, file):\n",
    "    '''Store dictionary to a json file for further use'''\n",
    "    with open(file, 'wt') as fp:\n",
    "        json.dump(dictionary, fp)\n",
    "\n",
    "dict2json(sponsor_info, 'sponsor.json')\n",
    "dict2json(non_sponsor_info, 'non_sponsor.json')"
   ]
  },
  {
   "cell_type": "markdown",
   "metadata": {},
   "source": [
    "__e) Use your code script to connect to SQL (either MySQL, MariaDB, or SQLite. Do NOT use SQL GUI or command terminal). Create a database and name it \"eBay\". Save the information of items in (d)  into a single table named \"eBay_items\" (You are allowed to use only one table). This table should contain both sponsored and non-sponsored information and have a column that specifies which item is sponsored/non-sponsored.  If an item misses ANY of the information in (d), you should insert that missing value as NULL into the table. Convert any price (item price and shipping price) into a \"dollar-cent\" format (e.g., convert $12.34 into 1234 and $12 into 1200. Make sure the two least significant digits are cents. If an item does not include cents in the price, insert zeros.) and insert the price as INT into the table.__"
   ]
  },
  {
   "cell_type": "code",
   "execution_count": 31,
   "metadata": {},
   "outputs": [],
   "source": [
    "# Load json file\n",
    "with open('sponsor.json') as f:\n",
    "    sponsor_info = json.load(f)\n",
    "\n",
    "with open('non_sponsor.json') as f:\n",
    "    non_sponsor_info = json.load(f)"
   ]
  },
  {
   "cell_type": "markdown",
   "metadata": {},
   "source": [
    "Test for the length of all strings to assign an optimal data type"
   ]
  },
  {
   "cell_type": "code",
   "execution_count": 32,
   "metadata": {},
   "outputs": [],
   "source": [
    "# max([len(sponsor_info[url]['sellerName']) for url in list(sponsor_info.keys())])"
   ]
  },
  {
   "cell_type": "code",
   "execution_count": 33,
   "metadata": {},
   "outputs": [],
   "source": [
    "mydb = mysql.connector.connect(host='127.0.0.1', user='root', buffered=True)\n",
    "mycursor = mydb.cursor()\n",
    "\n",
    "mycursor.execute(\"\"\"DROP DATABASE IF EXISTS eBay\"\"\")\n",
    "mycursor.execute(\"\"\"CREATE DATABASE eBay\"\"\")\n",
    "mycursor.execute(\"\"\"USE eBay\"\"\")\n",
    "\n",
    "mycursor.execute(\"DROP TABLE IF EXISTS eBay_items\")\n",
    "mycursor.execute(\"\"\"CREATE TABLE eBay_items\n",
    "(item_id VARCHAR(20),\n",
    "sellerName VARCHAR(40),\n",
    "sellerScore INT,\n",
    "itemPrice INT,\n",
    "title VARCHAR(80),\n",
    "itemSold INT,\n",
    "bestOffer INT,\n",
    "returnAllowed VARCHAR(50),\n",
    "shippingPrice VARCHAR(255),\n",
    "shipNeedCalculate INT,\n",
    "itemCondition TEXT,\n",
    "sponsorOrNot VARCHAR(20)\n",
    ")\"\"\")\n",
    "mydb.commit()\n",
    "\n",
    "into = \"INSERT INTO eBay_items(item_id, sellerName, sellerScore, itemPrice, title, itemSold, bestOffer, returnAllowed, shippingPrice, shipNeedCalculate, itemCondition, sponsorOrNot) values (%s,%s,%s,%s,%s,%s,%s,%s,%s,%s,%s,%s)\"\n",
    "\n",
    "# All names of elements selected\n",
    "spon_col = list(sponsor_info[list(sponsor_info.keys())[0]].keys())\n",
    "\n",
    "# Save information of items in sponsor folder to MySQL\n",
    "for item in list(sponsor_info.keys()):\n",
    "    value = []\n",
    "    value.append(item.replace('.htm', '')) # Insert itemid\n",
    "    for col in spon_col:\n",
    "        value.append(sponsor_info[item][col]) # Insert all elements selected\n",
    "    value.append('Sponsor')\n",
    "    mycursor.execute(into, value) # Insert if it is sponsor\n",
    "    mydb.commit()\n",
    "\n",
    "for item in list(non_sponsor_info.keys()):\n",
    "    value = []\n",
    "    value.append(item.replace('.htm', ''))\n",
    "    for col in spon_col:\n",
    "        value.append(non_sponsor_info[item][col])\n",
    "    value.append('Non-Sponsor')\n",
    "    mycursor.execute(into, value)\n",
    "    mydb.commit()\n",
    "\n",
    "mydb.close()"
   ]
  },
  {
   "cell_type": "markdown",
   "metadata": {},
   "source": [
    "__f) Use your code script (and NOT SQL GUI or command terminal) to run summary stats on each item. Print to the screen the mean, min, max, and mean for each column, grouped by \"sponsor/non-sponsor\" and \"condition\" (group by at the same time, not separately). For binary categorical columns, use 0-1 conversion. For e.g., for the \"returns allowed\" convert YES to 1 and NO to 0 and then calculate the stats. If it is NOT a numerical/binary categorical column, print to the screen the count of each category level. You will need to ignore NULL values in your statistic calculations.__"
   ]
  },
  {
   "cell_type": "code",
   "execution_count": 35,
   "metadata": {},
   "outputs": [
    {
     "name": "stdout",
     "output_type": "stream",
     "text": [
      "+--------------+---------------+---------------------+-------------------+--------------------+--------------------+\n",
      "| sponsorOrNot | itemCondition | Mean Of sellerScore | SD Of sellerScore | Min Of sellerScore | Max Of sellerScore |\n",
      "+--------------+---------------+---------------------+-------------------+--------------------+--------------------+\n",
      "| Non-Sponsor  | Brand new     | 16093.03            | 67585.12          | 0                  | 916850             |\n",
      "| Non-Sponsor  | Factory new   | 23146.90            | 109321.34         | 0                  | 638522             |\n",
      "| Non-Sponsor  | Restored      | 340916.61           | 776754.82         | 0                  | 2265479            |\n",
      "| Non-Sponsor  | Used          | 53432.23            | 75715.11          | 0                  | 224441             |\n",
      "| Sponsor      | Brand new     | 13959.04            | 81872.13          | 0                  | 568381             |\n",
      "| Sponsor      | Factory new   | 13201.00            | 25647.2           | 5                  | 64483              |\n",
      "| Sponsor      | Restored      | 10163.67            | 15521.34          | 0                  | 41454              |\n",
      "| Sponsor      | Used          | 20898.94            | 47641.44          | 0                  | 258904             |\n",
      "+--------------+---------------+---------------------+-------------------+--------------------+--------------------+\n"
     ]
    }
   ],
   "source": [
    "mydb = mysql.connector.connect(host='127.0.0.1', user='root', buffered=True, db='eBay')\n",
    "mycursor = mydb.cursor()\n",
    "mycursor.execute(\"\"\"\n",
    "SELECT sponsorOrNot, itemCondition, ROUND(AVG(sellerScore), 2) AS 'Mean Of sellerScore', ROUND(STD(sellerScore), 2) AS 'SD Of sellerScore', MIN(sellerScore) AS 'Min Of sellerScore', MAX(sellerScore) AS 'Max Of sellerScore'\n",
    "FROM eBay_items\n",
    "GROUP BY sponsorOrNot, itemCondition\n",
    "HAVING AVG(sellerScore) IS NOT NULL AND itemCondition IS NOT NULL\n",
    "ORDER BY sponsorOrNot, itemCondition\n",
    "\"\"\")\n",
    "\n",
    "results = mycursor.fetchall()\n",
    "\n",
    "# Print the output in a pretty table\n",
    "widths = []\n",
    "columns = []\n",
    "tavnit = '|'\n",
    "separator = '+' \n",
    "\n",
    "for cd in mycursor.description:\n",
    "    widths.append(len(cd[0]))\n",
    "    columns.append(cd[0])\n",
    "\n",
    "for w in widths:\n",
    "    tavnit += \" %-\"+\"%ss |\" % (w,)\n",
    "    separator += '-'*w + '--+'\n",
    "\n",
    "print(separator)\n",
    "print(tavnit % tuple(columns))\n",
    "print(separator)\n",
    "for row in results:\n",
    "    print(tavnit % row)\n",
    "print(separator)\n",
    "    \n",
    "mydb.commit()\n",
    "mydb.close()"
   ]
  },
  {
   "cell_type": "code",
   "execution_count": 36,
   "metadata": {},
   "outputs": [
    {
     "name": "stdout",
     "output_type": "stream",
     "text": [
      "+--------------+---------------+-------------------+-----------------+------------------+------------------+\n",
      "| sponsorOrNot | itemCondition | Mean of itemPrice | SD Of itemPrice | Min of itemPrice | Max of itemPrice |\n",
      "+--------------+---------------+-------------------+-----------------+------------------+------------------+\n",
      "| Non-Sponsor  | Brand new     | 31514.58          | 8921.44         | 100              | 69999            |\n",
      "| Non-Sponsor  | Factory new   | 27482.76          | 6889.45         | 19000            | 52995            |\n",
      "| Non-Sponsor  | Restored      | 23355.39          | 4506.2          | 17499            | 36995            |\n",
      "| Non-Sponsor  | Used          | 23110.24          | 5055.16         | 13999            | 50000            |\n",
      "| Sponsor      | Brand new     | 33342.28          | 9672.23         | 22100            | 59999            |\n",
      "| Sponsor      | Factory new   | 25659.00          | 4849.3          | 18995            | 33500            |\n",
      "| Sponsor      | Restored      | 24316.17          | 4754.13         | 19999            | 33900            |\n",
      "| Sponsor      | Used          | 27887.95          | 7975.71         | 15000            | 55351            |\n",
      "+--------------+---------------+-------------------+-----------------+------------------+------------------+\n"
     ]
    }
   ],
   "source": [
    "mydb = mysql.connector.connect(host='127.0.0.1', user='root', buffered=True, db='eBay')\n",
    "mycursor = mydb.cursor()\n",
    "mycursor.execute(\"\"\"\n",
    "SELECT sponsorOrNot, itemCondition, ROUND(AVG(itemPrice), 2) AS 'Mean of itemPrice', ROUND(STD(itemPrice), 2) AS 'SD Of itemPrice', MIN(itemPrice) AS 'Min of itemPrice', MAX(itemPrice) AS 'Max of itemPrice'\n",
    "FROM eBay_items\n",
    "GROUP BY sponsorOrNot, itemCondition\n",
    "HAVING AVG(itemPrice) IS NOT NULL AND itemCondition IS NOT NULL\n",
    "ORDER BY sponsorOrNot, itemCondition\n",
    "\"\"\")\n",
    "\n",
    "results = mycursor.fetchall()\n",
    "\n",
    "widths = []\n",
    "columns = []\n",
    "tavnit = '|'\n",
    "separator = '+' \n",
    "\n",
    "for cd in mycursor.description:\n",
    "    widths.append(len(cd[0]))\n",
    "    columns.append(cd[0])\n",
    "\n",
    "for w in widths:\n",
    "    tavnit += \" %-\"+\"%ss |\" % (w,)\n",
    "    separator += '-'*w + '--+'\n",
    "\n",
    "print(separator)\n",
    "print(tavnit % tuple(columns))\n",
    "print(separator)\n",
    "for row in results:\n",
    "    print(tavnit % row)\n",
    "print(separator)\n",
    "    \n",
    "mydb.commit()\n",
    "mydb.close()"
   ]
  },
  {
   "cell_type": "code",
   "execution_count": 37,
   "metadata": {},
   "outputs": [
    {
     "name": "stdout",
     "output_type": "stream",
     "text": [
      "+--------------+---------------+------------------+----------------+-----------------+-----------------+\n",
      "| sponsorOrNot | itemCondition | Mean of itemSold | SD of itemSold | Min of itemSold | Max of itemSold |\n",
      "+--------------+---------------+------------------+----------------+-----------------+-----------------+\n",
      "| Non-Sponsor  | Brand new     | 155.16           | 243.07         | 11              | 896             |\n",
      "| Non-Sponsor  | Factory new   | 67.00            | 52.0           | 15              | 119             |\n",
      "| Non-Sponsor  | Restored      | 90.83            | 103.78         | 11              | 316             |\n",
      "| Non-Sponsor  | Used          | 17.00            | 0.0            | 17              | 17              |\n",
      "| Sponsor      | Brand new     | 90.14            | 95.55          | 25              | 316             |\n",
      "| Sponsor      | Restored      | 739.00           | 0.0            | 739             | 739             |\n",
      "| Sponsor      | Used          | 29.00            | 21.18          | 8               | 58              |\n",
      "+--------------+---------------+------------------+----------------+-----------------+-----------------+\n"
     ]
    }
   ],
   "source": [
    "mydb = mysql.connector.connect(host='127.0.0.1', user='root', buffered=True, db='eBay')\n",
    "mycursor = mydb.cursor()\n",
    "mycursor.execute(\"\"\"\n",
    "SELECT sponsorOrNot, itemCondition, ROUND(AVG(itemSold), 2) AS 'Mean of itemSold', ROUND(STD(itemSold), 2) AS 'SD of itemSold', MIN(itemSold) AS 'Min of itemSold', MAX(itemSold) AS 'Max of itemSold'\n",
    "FROM eBay_items\n",
    "GROUP BY sponsorOrNot, itemCondition\n",
    "HAVING AVG(itemSold) IS NOT NULL AND itemCondition IS NOT NULL\n",
    "ORDER BY sponsorOrNot, itemCondition\n",
    "\"\"\")\n",
    "\n",
    "results = mycursor.fetchall()\n",
    "\n",
    "widths = []\n",
    "columns = []\n",
    "tavnit = '|'\n",
    "separator = '+' \n",
    "\n",
    "for cd in mycursor.description:\n",
    "    widths.append(len(cd[0]))\n",
    "    columns.append(cd[0])\n",
    "\n",
    "for w in widths:\n",
    "    tavnit += \" %-\"+\"%ss |\" % (w,)\n",
    "    separator += '-'*w + '--+'\n",
    "\n",
    "print(separator)\n",
    "print(tavnit % tuple(columns))\n",
    "print(separator)\n",
    "for row in results:\n",
    "    print(tavnit % row)\n",
    "print(separator)\n",
    "    \n",
    "mydb.commit()\n",
    "mydb.close()"
   ]
  },
  {
   "cell_type": "code",
   "execution_count": 38,
   "metadata": {},
   "outputs": [
    {
     "name": "stdout",
     "output_type": "stream",
     "text": [
      "+--------------+---------------+-------------------+-----------------+------------------+------------------+\n",
      "| sponsorOrNot | itemCondition | Mean of bestOffer | SD of bestOffer | Min of bestOffer | Max of bestOffer |\n",
      "+--------------+---------------+-------------------+-----------------+------------------+------------------+\n",
      "| Non-Sponsor  | Brand new     | 0.30              | 0.46            | 0                | 1                |\n",
      "| Non-Sponsor  | Factory new   | 0.55              | 0.5             | 0                | 1                |\n",
      "| Non-Sponsor  | Restored      | 0.33              | 0.47            | 0                | 1                |\n",
      "| Non-Sponsor  | Used          | 0.40              | 0.49            | 0                | 1                |\n",
      "| Sponsor      | Brand new     | 0.30              | 0.46            | 0                | 1                |\n",
      "| Sponsor      | Factory new   | 0.80              | 0.4             | 0                | 1                |\n",
      "| Sponsor      | Restored      | 0.50              | 0.5             | 0                | 1                |\n",
      "| Sponsor      | Used          | 0.49              | 0.5             | 0                | 1                |\n",
      "+--------------+---------------+-------------------+-----------------+------------------+------------------+\n"
     ]
    }
   ],
   "source": [
    "mydb = mysql.connector.connect(host='127.0.0.1', user='root', buffered=True, db='eBay')\n",
    "mycursor = mydb.cursor()\n",
    "mycursor.execute(\"\"\"\n",
    "SELECT sponsorOrNot, itemCondition, ROUND(AVG(bestOffer), 2) AS 'Mean of bestOffer', ROUND(STD(bestOffer), 2) AS 'SD of bestOffer', MIN(bestOffer) AS 'Min of bestOffer', MAX(bestOffer) AS 'Max of bestOffer'\n",
    "FROM eBay_items\n",
    "GROUP BY sponsorOrNot, itemCondition\n",
    "HAVING AVG(bestOffer) IS NOT NULL AND itemCondition IS NOT NULL\n",
    "ORDER BY sponsorOrNot, itemCondition\n",
    "\"\"\")\n",
    "\n",
    "results = mycursor.fetchall()\n",
    "\n",
    "widths = []\n",
    "columns = []\n",
    "tavnit = '|'\n",
    "separator = '+' \n",
    "\n",
    "for cd in mycursor.description:\n",
    "    widths.append(len(cd[0]))\n",
    "    columns.append(cd[0])\n",
    "\n",
    "for w in widths:\n",
    "    tavnit += \" %-\"+\"%ss |\" % (w,)\n",
    "    separator += '-'*w + '--+'\n",
    "\n",
    "print(separator)\n",
    "print(tavnit % tuple(columns))\n",
    "print(separator)\n",
    "for row in results:\n",
    "    print(tavnit % row)\n",
    "print(separator)\n",
    "    \n",
    "mydb.commit()\n",
    "mydb.close()"
   ]
  },
  {
   "cell_type": "code",
   "execution_count": 41,
   "metadata": {},
   "outputs": [
    {
     "name": "stdout",
     "output_type": "stream",
     "text": [
      "+--------------+---------------+-------------------+-----------------+------------------+------------------+\n",
      "| sponsorOrNot | itemCondition | Mean of shipPrice | SD of shipPrice | Min of shipPrice | Max of shipPrice |\n",
      "+--------------+---------------+-------------------+-----------------+------------------+------------------+\n",
      "| Non-Sponsor  | Brand new     | 286.74            | 824.74          | 0                | 999              |\n",
      "| Non-Sponsor  | Factory new   | 195.57            | 638.01          | 0                | 2500             |\n",
      "| Non-Sponsor  | Restored      | 194.88            | 673.86          | 0                | 2999             |\n",
      "| Non-Sponsor  | Used          | 367.25            | 795.68          | 0                | 999              |\n",
      "| Sponsor      | Brand new     | 370.22            | 1135.52         | 0                | 500              |\n",
      "| Sponsor      | Factory new   | 0.0               | 0.0             | 0                | 0                |\n",
      "| Sponsor      | Restored      | 0.0               | 0.0             | 0                | 0                |\n",
      "| Sponsor      | Used          | 1014.96           | 1765.84         | 0                | 5250             |\n",
      "+--------------+---------------+-------------------+-----------------+------------------+------------------+\n"
     ]
    }
   ],
   "source": [
    "mydb = mysql.connector.connect(host='127.0.0.1', user='root', buffered=True, db='eBay')\n",
    "mycursor = mydb.cursor()\n",
    "mycursor.execute(\"\"\"\n",
    "SELECT sponsorOrNot, itemCondition, ROUND(AVG(shippingPrice), 2) AS 'Mean of shipPrice', ROUND(STD(shippingPrice), 2) AS 'SD of shipPrice', MIN(shippingPrice) AS 'Min of shipPrice', MAX(shippingPrice) AS 'Max of shipPrice'\n",
    "FROM eBay_items\n",
    "GROUP BY sponsorOrNot, itemCondition\n",
    "HAVING AVG(shippingPrice) IS NOT NULL AND itemCondition IS NOT NULL\n",
    "ORDER BY sponsorOrNot, itemCondition\n",
    "\"\"\")\n",
    "\n",
    "results = mycursor.fetchall()\n",
    "\n",
    "widths = []\n",
    "columns = []\n",
    "tavnit = '|'\n",
    "separator = '+' \n",
    "\n",
    "for cd in mycursor.description:\n",
    "    widths.append(len(cd[0]))\n",
    "    columns.append(cd[0])\n",
    "\n",
    "for w in widths:\n",
    "    tavnit += \" %-\"+\"%ss |\" % (w,)\n",
    "    separator += '-'*w + '--+'\n",
    "\n",
    "print(separator)\n",
    "print(tavnit % tuple(columns))\n",
    "print(separator)\n",
    "for row in results:\n",
    "    print(tavnit % row)\n",
    "print(separator)\n",
    "    \n",
    "mydb.commit()\n",
    "mydb.close()"
   ]
  },
  {
   "cell_type": "code",
   "execution_count": 43,
   "metadata": {},
   "outputs": [
    {
     "name": "stdout",
     "output_type": "stream",
     "text": [
      "+--------------+---------------+-----------------+---------------+----------------+----------------+\n",
      "| sponsorOrNot | itemCondition | Mean of NeedCal | SD of NeedCal | Min of NeedCal | Max of NeedCal |\n",
      "+--------------+---------------+-----------------+---------------+----------------+----------------+\n",
      "| Non-Sponsor  | Brand new     | 0.22            | 0.42          | 0              | 1              |\n",
      "| Non-Sponsor  | Factory new   | 0.62            | 0.49          | 0              | 1              |\n",
      "| Non-Sponsor  | Restored      | 0.33            | 0.47          | 0              | 1              |\n",
      "| Non-Sponsor  | Used          | 0.29            | 0.45          | 0              | 1              |\n",
      "| Sponsor      | Brand new     | 0.21            | 0.41          | 0              | 1              |\n",
      "| Sponsor      | Factory new   | 0.40            | 0.49          | 0              | 1              |\n",
      "| Sponsor      | Restored      | 0.33            | 0.47          | 0              | 1              |\n",
      "| Sponsor      | Used          | 0.28            | 0.45          | 0              | 1              |\n",
      "+--------------+---------------+-----------------+---------------+----------------+----------------+\n"
     ]
    }
   ],
   "source": [
    "mydb = mysql.connector.connect(host='127.0.0.1', user='root', buffered=True, db='eBay')\n",
    "mycursor = mydb.cursor()\n",
    "mycursor.execute(\"\"\"\n",
    "SELECT sponsorOrNot, itemCondition, ROUND(AVG(shipNeedCalculate), 2) AS 'Mean of NeedCal', ROUND(STD(shipNeedCalculate), 2) AS 'SD of NeedCal', MIN(shipNeedCalculate) AS 'Min of NeedCal', MAX(shipNeedCalculate) AS 'Max of NeedCal'\n",
    "FROM eBay_items\n",
    "GROUP BY sponsorOrNot, itemCondition\n",
    "HAVING itemCondition IS NOT NULL\n",
    "ORDER BY sponsorOrNot, itemCondition\n",
    "\"\"\")\n",
    "\n",
    "results = mycursor.fetchall()\n",
    "\n",
    "widths = []\n",
    "columns = []\n",
    "tavnit = '|'\n",
    "separator = '+' \n",
    "\n",
    "for cd in mycursor.description:\n",
    "    widths.append(len(cd[0]))\n",
    "    columns.append(cd[0])\n",
    "\n",
    "for w in widths:\n",
    "    tavnit += \" %-\"+\"%ss |\" % (w,)\n",
    "    separator += '-'*w + '--+'\n",
    "\n",
    "print(separator)\n",
    "print(tavnit % tuple(columns))\n",
    "print(separator)\n",
    "for row in results:\n",
    "    print(tavnit % row)\n",
    "print(separator)\n",
    "    \n",
    "mydb.commit()\n",
    "mydb.close()"
   ]
  },
  {
   "cell_type": "code",
   "execution_count": 44,
   "metadata": {},
   "outputs": [
    {
     "name": "stdout",
     "output_type": "stream",
     "text": [
      "+--------------------+----------------------+\n",
      "| returnAllowed      | Num of Category      |\n",
      "+--------------------+----------------------+\n",
      "| 60 Buyer pays      | 5                    |\n",
      "| Free 60            | 6                    |\n",
      "| 14 Buyer pays      | 38                   |\n",
      "| 30 Buyer pays      | 194                  |\n",
      "| Free 30            | 320                  |\n",
      "| ReturnNotAllowed   | 555                  |\n",
      "+--------------------+----------------------+\n"
     ]
    }
   ],
   "source": [
    "mydb = mysql.connector.connect(host='127.0.0.1', user='root', buffered=True, db='eBay')\n",
    "mycursor = mydb.cursor()\n",
    "mycursor.execute(\"\"\"\n",
    "SELECT returnAllowed, COUNT(returnAllowed) AS 'Num of Category'\n",
    "FROM eBay_items\n",
    "GROUP BY returnAllowed\n",
    "HAVING returnAllowed IS NOT NULL\n",
    "ORDER BY COUNT(returnAllowed)\n",
    "\"\"\")\n",
    "\n",
    "results = mycursor.fetchall()\n",
    "\n",
    "widths = []\n",
    "columns = []\n",
    "tavnit = '|'\n",
    "separator = '+' \n",
    "\n",
    "for cd in mycursor.description:\n",
    "    widths.append(len(cd[0]) + 5)\n",
    "    columns.append(cd[0])\n",
    "\n",
    "for w in widths:\n",
    "    tavnit += \" %-\"+\"%ss |\" % (w,)\n",
    "    separator += '-'*w + '--+'\n",
    "\n",
    "print(separator)\n",
    "print(tavnit % tuple(columns))\n",
    "print(separator)\n",
    "for row in results:\n",
    "    print(tavnit % row)\n",
    "print(separator)\n",
    "    \n",
    "mydb.commit()\n",
    "mydb.close()"
   ]
  },
  {
   "cell_type": "code",
   "execution_count": 45,
   "metadata": {},
   "outputs": [
    {
     "name": "stdout",
     "output_type": "stream",
     "text": [
      "+--------------------+----------------------+\n",
      "| itemCondition      | Num of Category      |\n",
      "+--------------------+----------------------+\n",
      "| Restored           | 42                   |\n",
      "| Factory new        | 65                   |\n",
      "| Brand new          | 412                  |\n",
      "| Used               | 601                  |\n",
      "+--------------------+----------------------+\n"
     ]
    }
   ],
   "source": [
    "mydb = mysql.connector.connect(host='127.0.0.1', user='root', buffered=True, db='eBay')\n",
    "mycursor = mydb.cursor()\n",
    "mycursor.execute(\"\"\"\n",
    "SELECT itemCondition, COUNT(itemCondition) AS 'Num of Category'\n",
    "FROM eBay_items\n",
    "GROUP BY itemCondition\n",
    "HAVING itemCondition IS NOT NULL\n",
    "ORDER BY COUNT(itemCondition)\n",
    "\"\"\")\n",
    "\n",
    "results = mycursor.fetchall()\n",
    "\n",
    "widths = []\n",
    "columns = []\n",
    "tavnit = '|'\n",
    "separator = '+' \n",
    "\n",
    "for cd in mycursor.description:\n",
    "    widths.append(len(cd[0]) + 5)\n",
    "    columns.append(cd[0])\n",
    "\n",
    "for w in widths:\n",
    "    tavnit += \" %-\"+\"%ss |\" % (w,)\n",
    "    separator += '-'*w + '--+'\n",
    "\n",
    "print(separator)\n",
    "print(tavnit % tuple(columns))\n",
    "print(separator)\n",
    "for row in results:\n",
    "    print(tavnit % row)\n",
    "print(separator)\n",
    "    \n",
    "mydb.commit()\n",
    "mydb.close()"
   ]
  },
  {
   "cell_type": "code",
   "execution_count": 46,
   "metadata": {},
   "outputs": [
    {
     "name": "stdout",
     "output_type": "stream",
     "text": [
      "+-------------------+----------------------+\n",
      "| sponsorOrNot      | Num of Category      |\n",
      "+-------------------+----------------------+\n",
      "| Sponsor           | 123                  |\n",
      "| Non-Sponsor       | 997                  |\n",
      "+-------------------+----------------------+\n"
     ]
    }
   ],
   "source": [
    "mydb = mysql.connector.connect(host='127.0.0.1', user='root', buffered=True, db='eBay')\n",
    "mycursor = mydb.cursor()\n",
    "mycursor.execute(\"\"\"\n",
    "SELECT sponsorOrNot, COUNT(sponsorOrNot) AS 'Num of Category'\n",
    "FROM eBay_items\n",
    "GROUP BY sponsorOrNot\n",
    "HAVING sponsorOrNot IS NOT NULL\n",
    "ORDER BY COUNT(sponsorOrNot)\n",
    "\"\"\")\n",
    "\n",
    "results = mycursor.fetchall()\n",
    "\n",
    "widths = []\n",
    "columns = []\n",
    "tavnit = '|'\n",
    "separator = '+' \n",
    "\n",
    "for cd in mycursor.description:\n",
    "    widths.append(len(cd[0]) + 5)\n",
    "    columns.append(cd[0])\n",
    "\n",
    "for w in widths:\n",
    "    tavnit += \" %-\"+\"%ss |\" % (w,)\n",
    "    separator += '-'*w + '--+'\n",
    "\n",
    "print(separator)\n",
    "print(tavnit % tuple(columns))\n",
    "print(separator)\n",
    "for row in results:\n",
    "    print(tavnit % row)\n",
    "print(separator)\n",
    "    \n",
    "mydb.commit()\n",
    "mydb.close()"
   ]
  },
  {
   "cell_type": "markdown",
   "metadata": {},
   "source": [
    "__g) Use the stats in (f) and tell in your own words, how sponsored and non-sponsored items appear to be different. Is there a variable/column that can be used to predict the sponsor/non-sponsor items. (You do NOT need to run any model or statistic calculations for this part. Make your judgment only by looking at the stats you printed in (f))__"
   ]
  },
  {
   "cell_type": "markdown",
   "metadata": {},
   "source": [
    "__Ans:__\n",
    "\n",
    "The Score of Seller, Price of the item and the number of having a best offer of Sponsor items are somehow higher than these of non-sponsor items. \n",
    "\n",
    "Meanwhile, shipping prices of sponsor items, especially for restored and factory second items which are free to ship, are lower than these of non-sponsor items. But it should be noticed that shipping price of used sponsor items is more than 3 times more expensive than used non-sponsor items. Therefore, the shipping price of an used, factory second or restored item may be a determinant variable of whether the item is sponsored."
   ]
  },
  {
   "cell_type": "code",
   "execution_count": null,
   "metadata": {},
   "outputs": [],
   "source": []
  }
 ],
 "metadata": {
  "kernelspec": {
   "display_name": "Python 3",
   "language": "python",
   "name": "python3"
  },
  "language_info": {
   "codemirror_mode": {
    "name": "ipython",
    "version": 3
   },
   "file_extension": ".py",
   "mimetype": "text/x-python",
   "name": "python",
   "nbconvert_exporter": "python",
   "pygments_lexer": "ipython3",
   "version": "3.7.4"
  }
 },
 "nbformat": 4,
 "nbformat_minor": 2
}

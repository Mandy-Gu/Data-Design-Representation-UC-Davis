{
 "cells": [
  {
   "cell_type": "markdown",
   "metadata": {},
   "source": [
    "__Import all packages needed__"
   ]
  },
  {
   "cell_type": "code",
   "execution_count": 1,
   "metadata": {},
   "outputs": [],
   "source": [
    "from pymongo import MongoClient\n",
    "from pprint import pprint\n",
    "import json\n",
    "from bson.code import Code"
   ]
  },
  {
   "cell_type": "markdown",
   "metadata": {},
   "source": [
    "__1. Creates a MongoDB database called \"amazon\".__"
   ]
  },
  {
   "cell_type": "code",
   "execution_count": 2,
   "metadata": {},
   "outputs": [],
   "source": [
    "client = MongoClient('localhost', 27017)\n",
    "db = client.amazon"
   ]
  },
  {
   "cell_type": "markdown",
   "metadata": {},
   "source": [
    "__2. Reads \"reviews_electronics.16.json\" and uploads each review as a separate document to the collection \"reviews\" in the database \"amazon\".__"
   ]
  },
  {
   "cell_type": "code",
   "execution_count": 3,
   "metadata": {},
   "outputs": [
    {
     "data": {
      "text/plain": [
       "<pymongo.results.InsertManyResult at 0x13331d460>"
      ]
     },
     "execution_count": 3,
     "metadata": {},
     "output_type": "execute_result"
    }
   ],
   "source": [
    "reviews = db.reviews\n",
    "review_json = open('reviews_electronics.16.json', 'r')\n",
    "review_info = [json.loads(line) for line in review_json]\n",
    "reviews.insert_many(review_info)"
   ]
  },
  {
   "cell_type": "markdown",
   "metadata": {},
   "source": [
    "__3. Uses MongoDB's map reduce function to build a new collection \"avg_scores\" that averages review scores by product (\"asin\"). Print the first 100 entries of \"avg_scores\" to screen.__"
   ]
  },
  {
   "cell_type": "code",
   "execution_count": 81,
   "metadata": {
    "scrolled": false
   },
   "outputs": [
    {
     "name": "stdout",
     "output_type": "stream",
     "text": [
      "{'_id': '0132793040', 'value': 5.0}\n",
      "{'_id': 'B00E4KP4W6', 'value': 4.545454545454546}\n",
      "{'_id': 'B00E4KP8VI', 'value': 5.0}\n",
      "{'_id': 'B00E4KPMC8', 'value': 2.0}\n",
      "{'_id': 'B00E4KQ5C4', 'value': 5.0}\n",
      "{'_id': 'B00E4KQ9GG', 'value': 3.2857142857142856}\n",
      "{'_id': 'B00E4KQ9K2', 'value': 5.0}\n",
      "{'_id': 'B00E4KQD4E', 'value': 4.0}\n",
      "{'_id': 'B00E4KZBX8', 'value': 4.0}\n",
      "{'_id': 'B00E4KZDJ0', 'value': 5.0}\n",
      "{'_id': 'B00E4L35DA', 'value': 4.0}\n",
      "{'_id': 'B00E4L3N9Q', 'value': 4.0}\n",
      "{'_id': 'B00E4L48EA', 'value': 5.0}\n",
      "{'_id': 'B00E4L7FLI', 'value': 1.0}\n",
      "{'_id': 'B00E4L7TS2', 'value': 4.0}\n",
      "{'_id': 'B00E4LAL82', 'value': 3.0}\n",
      "{'_id': 'B00E4LBZZK', 'value': 5.0}\n",
      "{'_id': 'B00E4LF2Z4', 'value': 4.333333333333333}\n",
      "{'_id': 'B00E4LFP0G', 'value': 4.444444444444445}\n",
      "{'_id': 'B00E4LFWWW', 'value': 4.4}\n",
      "{'_id': 'B00E4LGTVU', 'value': 3.9310344827586206}\n"
     ]
    }
   ],
   "source": [
    "mapf = Code('''\n",
    "function() { emit(this.asin, this.overall) }\n",
    "''')\n",
    "\n",
    "reducef = Code('''\n",
    "function(key, value) { return Array.avg(value) }\n",
    "''')\n",
    "\n",
    "avg_score = reviews.map_reduce(mapf, reducef, 'avg_score', limit = 100)\n",
    "\n",
    "for score in avg_score.find():\n",
    "    print (score)"
   ]
  },
  {
   "cell_type": "markdown",
   "metadata": {},
   "source": [
    "__4. Uses MongoDB's map reduce function to build a new collection \"weighted_avg_scores\" that averages review scores by product (\"asin\"), weighted by the number of helpful votes (The base weight is 1 and for every additional helpful vote add 1 to weight. e.g. a \"[3, 5]\" value on \"helpful\" column should use 3 + 1 = 4 as weight, 3 being the additional votes and 1 being the base weight). Print the first 100 entries of \"weighted_avg_scores\" to screen.__"
   ]
  },
  {
   "cell_type": "code",
   "execution_count": 171,
   "metadata": {},
   "outputs": [
    {
     "name": "stdout",
     "output_type": "stream",
     "text": [
      "{'_id': '0132793040', 'value': 5.0}\n",
      "{'_id': 'B00E4KP4W6', 'value': 4.684210526315789}\n",
      "{'_id': 'B00E4KP8VI', 'value': 5.0}\n",
      "{'_id': 'B00E4KPMC8', 'value': 2.0}\n",
      "{'_id': 'B00E4KQ5C4', 'value': 5.0}\n",
      "{'_id': 'B00E4KQ9GG', 'value': 3.6875}\n",
      "{'_id': 'B00E4KQ9K2', 'value': 5.0}\n",
      "{'_id': 'B00E4KQD4E', 'value': 4.0}\n",
      "{'_id': 'B00E4KZBX8', 'value': 4.0}\n",
      "{'_id': 'B00E4KZDJ0', 'value': 5.0}\n",
      "{'_id': 'B00E4L35DA', 'value': 3.0}\n",
      "{'_id': 'B00E4L3N9Q', 'value': 4.0}\n",
      "{'_id': 'B00E4L48EA', 'value': 5.0}\n",
      "{'_id': 'B00E4L7FLI', 'value': 1.0}\n",
      "{'_id': 'B00E4L7TS2', 'value': 4.0}\n",
      "{'_id': 'B00E4LAL82', 'value': 3.0}\n",
      "{'_id': 'B00E4LBZZK', 'value': 5.0}\n",
      "{'_id': 'B00E4LF2Z4', 'value': 4.153846153846154}\n",
      "{'_id': 'B00E4LFP0G', 'value': 4.434782608695652}\n",
      "{'_id': 'B00E4LFWWW', 'value': 4.4}\n",
      "{'_id': 'B00E4LGTVU', 'value': 3.8857142857142857}\n"
     ]
    }
   ],
   "source": [
    "mapf = Code('''\n",
    "function() { \n",
    "    key = this.asin,\n",
    "    value = {\n",
    "        weight_score: ( this.helpful[0] + 1 ) * this.overall,\n",
    "        total_weight: this.helpful[0] + 1\n",
    "        },\n",
    "    emit( key, value )\n",
    "    }\n",
    "''')\n",
    "\n",
    "reducef = Code('''\n",
    "function(key, countObjVals) { \n",
    "    reducedVal = { total_weight: 0, weight_score: 0}\n",
    "    for ( idx = 0; idx < countObjVals.length; idx++){\n",
    "        reducedVal.total_weight += countObjVals[idx].total_weight;\n",
    "        reducedVal.weight_score += countObjVals[idx].weight_score;\n",
    "    }\n",
    "    return reducedVal\n",
    "    }\n",
    "''')\n",
    "\n",
    "finalizef = Code('''\n",
    "function (key, reducedVal) {\n",
    "reducedVal.weighted_avg = reducedVal.weight_score/reducedVal.total_weight\n",
    "return reducedVal['weighted_avg']\n",
    "}\n",
    "''')\n",
    "\n",
    "avg_score = reviews.map_reduce(mapf, reducef, 'weight_avg_score', finalize = finalizef, limit = 100)\n",
    "\n",
    "for score in avg_score.find():\n",
    "    print (score)"
   ]
  }
 ],
 "metadata": {
  "kernelspec": {
   "display_name": "Python 3",
   "language": "python",
   "name": "python3"
  },
  "language_info": {
   "codemirror_mode": {
    "name": "ipython",
    "version": 3
   },
   "file_extension": ".py",
   "mimetype": "text/x-python",
   "name": "python",
   "nbconvert_exporter": "python",
   "pygments_lexer": "ipython3",
   "version": "3.7.4"
  }
 },
 "nbformat": 4,
 "nbformat_minor": 2
}
